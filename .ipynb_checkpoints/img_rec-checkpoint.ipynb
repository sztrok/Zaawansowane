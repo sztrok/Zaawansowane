{
 "cells": [
  {
   "cell_type": "code",
   "execution_count": null,
   "id": "83ccf458-0b8c-42c0-a70b-bcc748a35bbf",
   "metadata": {},
   "outputs": [],
   "source": [
    "#hide\n",
    "import fastbook\n",
    "fastbook.setup_book()"
   ]
  },
  {
   "cell_type": "markdown",
   "id": "ace991cf-bee2-4682-8e17-ac5572b39742",
   "metadata": {},
   "source": [
    "# Zadanie minimum"
   ]
  },
  {
   "cell_type": "markdown",
   "id": "47c5e8de-6581-4366-a0c8-e3fbeaecb340",
   "metadata": {},
   "source": [
    "Wykorzystamy przykład z [fastbook](https://github.com/fastai/fastbook/blob/master/02_production.ipynb):"
   ]
  },
  {
   "cell_type": "code",
   "execution_count": null,
   "id": "b581db6a-409f-4acb-b193-81c585fc507a",
   "metadata": {},
   "outputs": [],
   "source": [
    "#hide\n",
    "from fastbook import *\n",
    "from fastai.vision.widgets import *"
   ]
  },
  {
   "cell_type": "code",
   "execution_count": null,
   "id": "c595e979-d224-4ffd-8cbf-dc1a4d5c14be",
   "metadata": {},
   "outputs": [],
   "source": [
    "path = Path('loko')"
   ]
  },
  {
   "cell_type": "code",
   "execution_count": null,
   "id": "b1f6caea-89fc-4c3b-8a8b-27f1f2a5234d",
   "metadata": {},
   "outputs": [],
   "source": [
    "loko = DataBlock(\n",
    "    blocks=(ImageBlock, CategoryBlock), \n",
    "    get_items=get_image_files, \n",
    "    splitter=RandomSplitter(valid_pct=0.2, seed=42),\n",
    "    get_y=parent_label,\n",
    "    item_tfms=Resize(128))"
   ]
  },
  {
   "cell_type": "code",
   "execution_count": null,
   "id": "65a27a1f-1127-4f68-b2a7-52caee9e379e",
   "metadata": {},
   "outputs": [],
   "source": [
    "#hide\n",
    "dls = loko.dataloaders(path)"
   ]
  },
  {
   "cell_type": "code",
   "execution_count": null,
   "id": "571ed9bd-ac0e-4883-a258-d1f2b147a750",
   "metadata": {},
   "outputs": [],
   "source": [
    "dls.valid.show_batch(max_n=4, nrows=1)"
   ]
  },
  {
   "cell_type": "markdown",
   "id": "61b926cb-a985-469d-b3cf-fdd8898e259f",
   "metadata": {},
   "source": [
    "### Przygotowanie danych"
   ]
  },
  {
   "cell_type": "code",
   "execution_count": null,
   "id": "18a0c751-0d97-4599-9b62-4e548e70b453",
   "metadata": {},
   "outputs": [],
   "source": [
    "loko = loko.new(item_tfms=RandomResizedCrop(96, min_scale=0.1))\n",
    "dls = loko.dataloaders(path, bs=20)\n",
    "dls.train.show_batch(max_n=4, nrows=1, unique=True)"
   ]
  },
  {
   "cell_type": "markdown",
   "id": "ba31815b-c9a3-47a7-afaa-f80df20570d6",
   "metadata": {},
   "source": [
    "### Data Augmentation"
   ]
  },
  {
   "cell_type": "code",
   "execution_count": null,
   "id": "181f8e9f-a393-4e8f-9c94-a1b50ab9e813",
   "metadata": {
    "scrolled": true
   },
   "outputs": [],
   "source": [
    "#hide\n",
    "loko = loko.new(item_tfms=Resize(128), batch_tfms=aug_transforms(mult=1.5))\n",
    "dls = loko.dataloaders(path, bs=25)\n",
    "dls.train.show_batch(max_n=8, nrows=2, unique=True)"
   ]
  },
  {
   "cell_type": "markdown",
   "id": "9adcacf8-2d5c-4d39-a253-40dd7a0247cf",
   "metadata": {},
   "source": [
    "### Trenowanie\n",
    "\n",
    "Wykorzystamy istniejący model [rosnet18](https://fastai1.fast.ai/vision.models.html)."
   ]
  },
  {
   "cell_type": "code",
   "execution_count": null,
   "id": "7f29cc20-4304-4c2f-a5f3-7be33bcc8786",
   "metadata": {},
   "outputs": [],
   "source": [
    "learn = vision_learner(dls, resnet18, metrics=error_rate)\n",
    "learn.fine_tune(5) # można poeksperymentować"
   ]
  },
  {
   "cell_type": "code",
   "execution_count": null,
   "id": "0568aea9-8196-4806-91e4-24d9ab0eeaa0",
   "metadata": {},
   "outputs": [],
   "source": [
    "interp = ClassificationInterpretation.from_learner(learn)\n",
    "interp.plot_confusion_matrix()"
   ]
  },
  {
   "cell_type": "code",
   "execution_count": null,
   "id": "62693f78-7966-43e6-ae27-d3ea6d65d931",
   "metadata": {
    "scrolled": true
   },
   "outputs": [],
   "source": [
    "interp.plot_top_losses(6, nrows=1)"
   ]
  },
  {
   "cell_type": "code",
   "execution_count": null,
   "id": "9a4ae387-4950-46c1-a41a-e557de5f34c3",
   "metadata": {
    "scrolled": true
   },
   "outputs": [],
   "source": [
    "cleaner = ImageClassifierCleaner(learn)\n",
    "cleaner"
   ]
  },
  {
   "cell_type": "code",
   "execution_count": null,
   "id": "fb8f98dd-23ce-4ac4-acef-4626cc8e1eb2",
   "metadata": {},
   "outputs": [],
   "source": [
    "learn.export() # Eksport przetrenowanego modelu (może się przydać przy użytku w innym projekcie)"
   ]
  },
  {
   "cell_type": "code",
   "execution_count": null,
   "id": "01d4944f-ef0b-4ee4-9950-4b4b5af5b82b",
   "metadata": {},
   "outputs": [],
   "source": [
    "path = Path()\n",
    "learn_inf = load_learner(path/'export.pkl') # import zapisanego wyżej modelu (tak dla zasady)"
   ]
  },
  {
   "cell_type": "code",
   "execution_count": 21,
   "id": "a3b3f81b-e079-425b-b776-0dbcad889eb1",
   "metadata": {},
   "outputs": [
    {
     "data": {
      "application/vnd.jupyter.widget-view+json": {
       "model_id": "ca203b3147914f66bdda5e2b7bb2e180",
       "version_major": 2,
       "version_minor": 0
      },
      "text/plain": [
       "VBox(children=(Label(value=\"Let's find out how it works!\"), FileUpload(value={}, description='Upload'), Button…"
      ]
     },
     "metadata": {},
     "output_type": "display_data"
    }
   ],
   "source": [
    "out_pl = widgets.Output()\n",
    "out_pl.clear_output()\n",
    "btn_upload = SimpleNamespace(data = ['loko/steam/images-10.jpeg'])\n",
    "img = PILImage.create(btn_upload.data[-1])\n",
    "with out_pl: display(img.to_thumb(256,256))\n",
    "btn_run = widgets.Button(description='Classify')\n",
    "lbl_pred = widgets.Label()\n",
    "lbl_pred.value = \"\"\n",
    "\n",
    "def on_click_classify(change):\n",
    "    img = PILImage.create(btn_upload.data[-1])\n",
    "    pred,pred_idx,probs = learn_inf.predict(img)\n",
    "    lbl_pred.value = f'Prediction: {pred}; Probability: {probs[pred_idx]:.04f}'\n",
    "\n",
    "def on_upload_change(change):\n",
    "    img = PILImage.create(btn_upload.data[-1])\n",
    "    out_pl.clear_output()\n",
    "    with out_pl: display(img.to_thumb(256,256))\n",
    "\n",
    "btn_run.on_click(on_click_classify)\n",
    "btn_upload = widgets.FileUpload()\n",
    "btn_upload.observe(on_upload_change, names='_counter')\n",
    "VBox([widgets.Label(\"Let's find out how it works!\"), btn_upload, btn_run, out_pl, lbl_pred])"
   ]
  },
  {
   "cell_type": "code",
   "execution_count": null,
   "id": "c7a00e6c-9938-4672-9092-0e013ce7cbef",
   "metadata": {},
   "outputs": [],
   "source": []
  },
  {
   "cell_type": "code",
   "execution_count": null,
   "id": "b845091b-972d-4421-a601-b56de5440763",
   "metadata": {},
   "outputs": [],
   "source": []
  }
 ],
 "metadata": {
  "kernelspec": {
   "display_name": "Python 3 (ipykernel)",
   "language": "python",
   "name": "python3"
  },
  "language_info": {
   "codemirror_mode": {
    "name": "ipython",
    "version": 3
   },
   "file_extension": ".py",
   "mimetype": "text/x-python",
   "name": "python",
   "nbconvert_exporter": "python",
   "pygments_lexer": "ipython3",
   "version": "3.12.9"
  }
 },
 "nbformat": 4,
 "nbformat_minor": 5
}
